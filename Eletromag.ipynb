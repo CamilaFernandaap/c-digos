{
  "nbformat": 4,
  "nbformat_minor": 0,
  "metadata": {
    "colab": {
      "provenance": [],
      "authorship_tag": "ABX9TyMin44KEgzH5aRhBMgDWezJ",
      "include_colab_link": true
    },
    "kernelspec": {
      "name": "python3",
      "display_name": "Python 3"
    },
    "language_info": {
      "name": "python"
    }
  },
  "cells": [
    {
      "cell_type": "markdown",
      "metadata": {
        "id": "view-in-github",
        "colab_type": "text"
      },
      "source": [
        "<a href=\"https://colab.research.google.com/github/CamilaFernandaap/codigo/blob/main/Eletromag.ipynb\" target=\"_parent\"><img src=\"https://colab.research.google.com/assets/colab-badge.svg\" alt=\"Open In Colab\"/></a>"
      ]
    },
    {
      "cell_type": "code",
      "execution_count": 40,
      "metadata": {
        "colab": {
          "base_uri": "https://localhost:8080/"
        },
        "id": "8L5Sc_4knPyh",
        "outputId": "0c1ecdf1-f594-4f6d-c096-71e102a4e6af"
      },
      "outputs": [
        {
          "output_type": "stream",
          "name": "stdout",
          "text": [
            "o resuldado final foi de ax(bxc): [-1  1  0]\n",
            "o resuldado final foi de (axb)xc: [-1  0  1]\n",
            "Portanto o resultado é: False\n"
          ]
        }
      ],
      "source": [
        "import numpy as np\n",
        "# Entrando com as matrizes a, b e c\n",
        "a = [1, 1,0]\n",
        "b = [0,1,1]\n",
        "c = [1,0,1]\n",
        "\n",
        "# Calculando as matrizes\n",
        "result0 = np.cross(b, c)\n",
        "result1 = np.cross(a,b)\n",
        "result2 = np.cross(a,result0)\n",
        "result3 = np.cross(result1,c)\n",
        "\n",
        "print('o resuldado final foi de ax(bxc):', result2)\n",
        "\n",
        "print('o resuldado final foi de (axb)xc:', result3)\n",
        "\n",
        "# Testando elegibilidade dos resultados\n",
        "an_array = np.array(result2)\n",
        "another_array = np.array(result3)\n",
        "comparison = an_array == another_array\n",
        "equal_arrays = comparison.all()\n",
        "\n",
        "\n",
        "print('Portanto o resultado é:',equal_arrays)"
      ]
    },
    {
      "cell_type": "code",
      "source": [],
      "metadata": {
        "id": "iLf727SE7iy3"
      },
      "execution_count": 33,
      "outputs": []
    }
  ]
}